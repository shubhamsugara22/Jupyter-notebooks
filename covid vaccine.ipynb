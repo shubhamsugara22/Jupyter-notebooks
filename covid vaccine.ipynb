{
 "cells": [
  {
   "cell_type": "code",
   "execution_count": 7,
   "metadata": {},
   "outputs": [],
   "source": [
    "import numpy as np \n",
    "import pandas as pd\n",
    "import matplotlib.pyplot as plt\n",
    "import seaborn as sns"
   ]
  },
  {
   "cell_type": "code",
   "execution_count": 3,
   "metadata": {},
   "outputs": [
    {
     "name": "stdout",
     "output_type": "stream",
     "text": [
      "                     user_name              user_location  \\\n",
      "0                     MyNewsNE                      Assam   \n",
      "1                Shubham Gupta                        NaN   \n",
      "2      Journal of Infectiology                        NaN   \n",
      "3                         Zane                        NaN   \n",
      "4           Ann-Maree O’Connor  Adelaide, South Australia   \n",
      "...                        ...                        ...   \n",
      "38454   Nanosecond to Midnight                        NaN   \n",
      "38455     Pamela Peeke, MD MPH         Bethesda, Maryland   \n",
      "38456            City of Indio                  Indio, CA   \n",
      "38457            Jalen Igbeare          San Francisco, CA   \n",
      "38458        Holly Soriano MFA            Los Angeles, CA   \n",
      "\n",
      "                                        user_description         user_created  \\\n",
      "0      MyNewsNE a dedicated multi-lingual media house...     24-05-2020 10:18   \n",
      "1      I will tell about all experiences of my life f...     14-08-2020 16:42   \n",
      "2      Journal of Infectiology (ISSN 2689-9981) is ac...     14-12-2017 07:07   \n",
      "3                                      Fresher than you.     18-09-2019 11:01   \n",
      "4      Retired university administrator. Melburnian b...     24-01-2013 14:53   \n",
      "...                                                  ...                  ...   \n",
      "38454                                            tik tok  2020-09-11 09:28:32   \n",
      "38455  Integrative medicine pioneer @UCBerkeley scien...  2009-03-17 23:10:12   \n",
      "38456  The City of Indio's public servants provide ou...  2012-06-11 15:09:13   \n",
      "38457  I would rather die of passion than of boredom ...  2012-06-20 23:36:19   \n",
      "38458  #indie filmmaker/#writer/#superdork/#standup/#...  2009-07-02 00:15:05   \n",
      "\n",
      "       user_followers  user_friends  user_favourites  user_verified  \\\n",
      "0                  64            11              110          False   \n",
      "1                   1            17                0          False   \n",
      "2                 143           566                8          False   \n",
      "3                  29            25              620          False   \n",
      "4                  83           497            10737          False   \n",
      "...               ...           ...              ...            ...   \n",
      "38454             283           343             1923          False   \n",
      "38455           19688         16744            13109          False   \n",
      "38456            5010          2666             1226          False   \n",
      "38457              97           133             5052          False   \n",
      "38458            1589          1390             5919          False   \n",
      "\n",
      "                      date                                               text  \\\n",
      "0         18-08-2020 12:55  Australia to Manufacture Covid-19 Vaccine and ...   \n",
      "1         18-08-2020 12:55  #CoronavirusVaccine #CoronaVaccine #CovidVacci...   \n",
      "2         18-08-2020 12:46  Deaths due to COVID-19 in Affected Countries\\n...   \n",
      "3         18-08-2020 12:45  @Team_Subhashree @subhashreesotwe @iamrajchoco...   \n",
      "4         18-08-2020 12:45  @michellegrattan @ConversationEDU This is what...   \n",
      "...                    ...                                                ...   \n",
      "38454  2021-01-01 00:02:49  #CovidVaccine fans are grotesquely delusional....   \n",
      "38455  2021-01-01 00:01:50  “We get kind of blinded by vaccine euphoria-th...   \n",
      "38456  2021-01-01 00:01:16  Find the updated #COVIDvaccine schedule, and a...   \n",
      "38457  2021-01-01 00:00:57  This needs to be a *waaay* bigger story. And y...   \n",
      "38458  2021-01-01 00:00:49  My happy thought for today is getting work off...   \n",
      "\n",
      "                                                hashtags               source  \\\n",
      "0                                       ['CovidVaccine']      Twitter Web App   \n",
      "1      ['CoronavirusVaccine', 'CoronaVaccine', 'Covid...  Twitter for Android   \n",
      "2                                                    NaN      Twitter Web App   \n",
      "3                                                    NaN  Twitter for Android   \n",
      "4                                                    NaN      Twitter Web App   \n",
      "...                                                  ...                  ...   \n",
      "38454                    ['CovidVaccine', 'Welcome2021']   Twitter for iPhone   \n",
      "38455                                                NaN            TweetDeck   \n",
      "38456                                   ['COVIDvaccine']       Hootsuite Inc.   \n",
      "38457                                                NaN   Twitter for iPhone   \n",
      "38458     ['CovidVaccine', 'coronavirus', 'coronavirus']  Twitter for Android   \n",
      "\n",
      "       is_retweet  \n",
      "0           False  \n",
      "1           False  \n",
      "2           False  \n",
      "3           False  \n",
      "4           False  \n",
      "...           ...  \n",
      "38454       False  \n",
      "38455       False  \n",
      "38456       False  \n",
      "38457       False  \n",
      "38458       False  \n",
      "\n",
      "[38459 rows x 13 columns]\n"
     ]
    }
   ],
   "source": [
    "df= pd.read_csv(r'D:\\Jupyter notebook\\archive\\covidvaccine.csv')\n",
    "print(df)"
   ]
  },
  {
   "cell_type": "code",
   "execution_count": 4,
   "metadata": {},
   "outputs": [
    {
     "data": {
      "text/html": [
       "<div>\n",
       "<style scoped>\n",
       "    .dataframe tbody tr th:only-of-type {\n",
       "        vertical-align: middle;\n",
       "    }\n",
       "\n",
       "    .dataframe tbody tr th {\n",
       "        vertical-align: top;\n",
       "    }\n",
       "\n",
       "    .dataframe thead th {\n",
       "        text-align: right;\n",
       "    }\n",
       "</style>\n",
       "<table border=\"1\" class=\"dataframe\">\n",
       "  <thead>\n",
       "    <tr style=\"text-align: right;\">\n",
       "      <th></th>\n",
       "      <th>user_name</th>\n",
       "      <th>user_location</th>\n",
       "      <th>user_description</th>\n",
       "      <th>user_created</th>\n",
       "      <th>user_followers</th>\n",
       "      <th>user_friends</th>\n",
       "      <th>user_favourites</th>\n",
       "      <th>user_verified</th>\n",
       "      <th>date</th>\n",
       "      <th>text</th>\n",
       "      <th>hashtags</th>\n",
       "      <th>source</th>\n",
       "      <th>is_retweet</th>\n",
       "    </tr>\n",
       "  </thead>\n",
       "  <tbody>\n",
       "    <tr>\n",
       "      <th>0</th>\n",
       "      <td>MyNewsNE</td>\n",
       "      <td>Assam</td>\n",
       "      <td>MyNewsNE a dedicated multi-lingual media house...</td>\n",
       "      <td>24-05-2020 10:18</td>\n",
       "      <td>64</td>\n",
       "      <td>11</td>\n",
       "      <td>110</td>\n",
       "      <td>False</td>\n",
       "      <td>18-08-2020 12:55</td>\n",
       "      <td>Australia to Manufacture Covid-19 Vaccine and ...</td>\n",
       "      <td>['CovidVaccine']</td>\n",
       "      <td>Twitter Web App</td>\n",
       "      <td>False</td>\n",
       "    </tr>\n",
       "    <tr>\n",
       "      <th>1</th>\n",
       "      <td>Shubham Gupta</td>\n",
       "      <td>NaN</td>\n",
       "      <td>I will tell about all experiences of my life f...</td>\n",
       "      <td>14-08-2020 16:42</td>\n",
       "      <td>1</td>\n",
       "      <td>17</td>\n",
       "      <td>0</td>\n",
       "      <td>False</td>\n",
       "      <td>18-08-2020 12:55</td>\n",
       "      <td>#CoronavirusVaccine #CoronaVaccine #CovidVacci...</td>\n",
       "      <td>['CoronavirusVaccine', 'CoronaVaccine', 'Covid...</td>\n",
       "      <td>Twitter for Android</td>\n",
       "      <td>False</td>\n",
       "    </tr>\n",
       "    <tr>\n",
       "      <th>2</th>\n",
       "      <td>Journal of Infectiology</td>\n",
       "      <td>NaN</td>\n",
       "      <td>Journal of Infectiology (ISSN 2689-9981) is ac...</td>\n",
       "      <td>14-12-2017 07:07</td>\n",
       "      <td>143</td>\n",
       "      <td>566</td>\n",
       "      <td>8</td>\n",
       "      <td>False</td>\n",
       "      <td>18-08-2020 12:46</td>\n",
       "      <td>Deaths due to COVID-19 in Affected Countries\\n...</td>\n",
       "      <td>NaN</td>\n",
       "      <td>Twitter Web App</td>\n",
       "      <td>False</td>\n",
       "    </tr>\n",
       "    <tr>\n",
       "      <th>3</th>\n",
       "      <td>Zane</td>\n",
       "      <td>NaN</td>\n",
       "      <td>Fresher than you.</td>\n",
       "      <td>18-09-2019 11:01</td>\n",
       "      <td>29</td>\n",
       "      <td>25</td>\n",
       "      <td>620</td>\n",
       "      <td>False</td>\n",
       "      <td>18-08-2020 12:45</td>\n",
       "      <td>@Team_Subhashree @subhashreesotwe @iamrajchoco...</td>\n",
       "      <td>NaN</td>\n",
       "      <td>Twitter for Android</td>\n",
       "      <td>False</td>\n",
       "    </tr>\n",
       "    <tr>\n",
       "      <th>4</th>\n",
       "      <td>Ann-Maree O’Connor</td>\n",
       "      <td>Adelaide, South Australia</td>\n",
       "      <td>Retired university administrator. Melburnian b...</td>\n",
       "      <td>24-01-2013 14:53</td>\n",
       "      <td>83</td>\n",
       "      <td>497</td>\n",
       "      <td>10737</td>\n",
       "      <td>False</td>\n",
       "      <td>18-08-2020 12:45</td>\n",
       "      <td>@michellegrattan @ConversationEDU This is what...</td>\n",
       "      <td>NaN</td>\n",
       "      <td>Twitter Web App</td>\n",
       "      <td>False</td>\n",
       "    </tr>\n",
       "  </tbody>\n",
       "</table>\n",
       "</div>"
      ],
      "text/plain": [
       "                 user_name              user_location  \\\n",
       "0                 MyNewsNE                      Assam   \n",
       "1            Shubham Gupta                        NaN   \n",
       "2  Journal of Infectiology                        NaN   \n",
       "3                     Zane                        NaN   \n",
       "4       Ann-Maree O’Connor  Adelaide, South Australia   \n",
       "\n",
       "                                    user_description      user_created  \\\n",
       "0  MyNewsNE a dedicated multi-lingual media house...  24-05-2020 10:18   \n",
       "1  I will tell about all experiences of my life f...  14-08-2020 16:42   \n",
       "2  Journal of Infectiology (ISSN 2689-9981) is ac...  14-12-2017 07:07   \n",
       "3                                  Fresher than you.  18-09-2019 11:01   \n",
       "4  Retired university administrator. Melburnian b...  24-01-2013 14:53   \n",
       "\n",
       "   user_followers  user_friends  user_favourites  user_verified  \\\n",
       "0              64            11              110          False   \n",
       "1               1            17                0          False   \n",
       "2             143           566                8          False   \n",
       "3              29            25              620          False   \n",
       "4              83           497            10737          False   \n",
       "\n",
       "               date                                               text  \\\n",
       "0  18-08-2020 12:55  Australia to Manufacture Covid-19 Vaccine and ...   \n",
       "1  18-08-2020 12:55  #CoronavirusVaccine #CoronaVaccine #CovidVacci...   \n",
       "2  18-08-2020 12:46  Deaths due to COVID-19 in Affected Countries\\n...   \n",
       "3  18-08-2020 12:45  @Team_Subhashree @subhashreesotwe @iamrajchoco...   \n",
       "4  18-08-2020 12:45  @michellegrattan @ConversationEDU This is what...   \n",
       "\n",
       "                                            hashtags               source  \\\n",
       "0                                   ['CovidVaccine']      Twitter Web App   \n",
       "1  ['CoronavirusVaccine', 'CoronaVaccine', 'Covid...  Twitter for Android   \n",
       "2                                                NaN      Twitter Web App   \n",
       "3                                                NaN  Twitter for Android   \n",
       "4                                                NaN      Twitter Web App   \n",
       "\n",
       "   is_retweet  \n",
       "0       False  \n",
       "1       False  \n",
       "2       False  \n",
       "3       False  \n",
       "4       False  "
      ]
     },
     "execution_count": 4,
     "metadata": {},
     "output_type": "execute_result"
    }
   ],
   "source": [
    "(df.head())"
   ]
  },
  {
   "cell_type": "code",
   "execution_count": 5,
   "metadata": {},
   "outputs": [
    {
     "name": "stdout",
     "output_type": "stream",
     "text": [
      "<class 'pandas.core.frame.DataFrame'>\n",
      "RangeIndex: 38459 entries, 0 to 38458\n",
      "Data columns (total 13 columns):\n",
      " #   Column            Non-Null Count  Dtype \n",
      "---  ------            --------------  ----- \n",
      " 0   user_name         38459 non-null  object\n",
      " 1   user_location     30016 non-null  object\n",
      " 2   user_description  36086 non-null  object\n",
      " 3   user_created      38459 non-null  object\n",
      " 4   user_followers    38459 non-null  int64 \n",
      " 5   user_friends      38459 non-null  int64 \n",
      " 6   user_favourites   38459 non-null  int64 \n",
      " 7   user_verified     38459 non-null  bool  \n",
      " 8   date              38459 non-null  object\n",
      " 9   text              38459 non-null  object\n",
      " 10  hashtags          26838 non-null  object\n",
      " 11  source            38458 non-null  object\n",
      " 12  is_retweet        38459 non-null  bool  \n",
      "dtypes: bool(2), int64(3), object(8)\n",
      "memory usage: 3.3+ MB\n"
     ]
    }
   ],
   "source": [
    "df.info()"
   ]
  },
  {
   "cell_type": "code",
   "execution_count": 6,
   "metadata": {},
   "outputs": [
    {
     "name": "stdout",
     "output_type": "stream",
     "text": [
      "       user_followers   user_friends  user_favourites\n",
      "count    3.845900e+04   38459.000000     38459.000000\n",
      "mean     6.518558e+04    1561.802153     13983.733898\n",
      "std      7.330640e+05    5451.255609     37139.921950\n",
      "min      0.000000e+00       0.000000         0.000000\n",
      "25%      1.080000e+02     167.000000       366.500000\n",
      "50%      4.960000e+02     485.000000      2529.000000\n",
      "75%      2.245500e+03    1413.000000     11227.500000\n",
      "max      1.433214e+07  275057.000000    884410.000000\n"
     ]
    }
   ],
   "source": [
    "print(df.describe())"
   ]
  },
  {
   "cell_type": "code",
   "execution_count": 10,
   "metadata": {},
   "outputs": [
    {
     "data": {
      "text/plain": [
       "<matplotlib.axes._subplots.AxesSubplot at 0x1f7ec432490>"
      ]
     },
     "execution_count": 10,
     "metadata": {},
     "output_type": "execute_result"
    },
    {
     "data": {
      "image/png": "[encoded data removed]",
      "text/plain": [
       "<Figure size 432x288 with 1 Axes>"
      ]
     },
     "metadata": {
      "needs_background": "light"
     },
     "output_type": "display_data"
    }
   ],
   "source": [
    "sns.boxplot(data= df ,orient =\"h\" ,palette =\"Set2\")"
   ]
  },
  {
   "cell_type": "code",
   "execution_count": null,
   "metadata": {},
   "outputs": [],
   "source": []
  }
 ],
 "metadata": {
  "kernelspec": {
   "display_name": "Python 3",
   "language": "python",
   "name": "python3"
  },
  "language_info": {
   "codemirror_mode": {
    "name": "ipython",
    "version": 3
   },
   "file_extension": ".py",
   "mimetype": "text/x-python",
   "name": "python",
   "nbconvert_exporter": "python",
   "pygments_lexer": "ipython3",
   "version": "3.8.3"
  }
 },
 "nbformat": 4,
 "nbformat_minor": 4
}
