{
 "cells": [
  {
   "cell_type": "code",
   "execution_count": 1,
   "metadata": {},
   "outputs": [],
   "source": [
    "import numpy as np \n",
    "import pandas as pd\n",
    "import matplotlib.pyplot as plt"
   ]
  },
  {
   "cell_type": "code",
   "execution_count": 2,
   "metadata": {},
   "outputs": [
    {
     "name": "stdout",
     "output_type": "stream",
     "text": [
      "                     user_name              user_location  \\\n",
      "0                     MyNewsNE                      Assam   \n",
      "1                Shubham Gupta                        NaN   \n",
      "2      Journal of Infectiology                        NaN   \n",
      "3                         Zane                        NaN   \n",
      "4           Ann-Maree O’Connor  Adelaide, South Australia   \n",
      "...                        ...                        ...   \n",
      "38454   Nanosecond to Midnight                        NaN   \n",
      "38455     Pamela Peeke, MD MPH         Bethesda, Maryland   \n",
      "38456            City of Indio                  Indio, CA   \n",
      "38457            Jalen Igbeare          San Francisco, CA   \n",
      "38458        Holly Soriano MFA            Los Angeles, CA   \n",
      "\n",
      "                                        user_description         user_created  \\\n",
      "0      MyNewsNE a dedicated multi-lingual media house...     24-05-2020 10:18   \n",
      "1      I will tell about all experiences of my life f...     14-08-2020 16:42   \n",
      "2      Journal of Infectiology (ISSN 2689-9981) is ac...     14-12-2017 07:07   \n",
      "3                                      Fresher than you.     18-09-2019 11:01   \n",
      "4      Retired university administrator. Melburnian b...     24-01-2013 14:53   \n",
      "...                                                  ...                  ...   \n",
      "38454                                            tik tok  2020-09-11 09:28:32   \n",
      "38455  Integrative medicine pioneer @UCBerkeley scien...  2009-03-17 23:10:12   \n",
      "38456  The City of Indio's public servants provide ou...  2012-06-11 15:09:13   \n",
      "38457  I would rather die of passion than of boredom ...  2012-06-20 23:36:19   \n",
      "38458  #indie filmmaker/#writer/#superdork/#standup/#...  2009-07-02 00:15:05   \n",
      "\n",
      "       user_followers  user_friends  user_favourites  user_verified  \\\n",
      "0                  64            11              110          False   \n",
      "1                   1            17                0          False   \n",
      "2                 143           566                8          False   \n",
      "3                  29            25              620          False   \n",
      "4                  83           497            10737          False   \n",
      "...               ...           ...              ...            ...   \n",
      "38454             283           343             1923          False   \n",
      "38455           19688         16744            13109          False   \n",
      "38456            5010          2666             1226          False   \n",
      "38457              97           133             5052          False   \n",
      "38458            1589          1390             5919          False   \n",
      "\n",
      "                      date                                               text  \\\n",
      "0         18-08-2020 12:55  Australia to Manufacture Covid-19 Vaccine and ...   \n",
      "1         18-08-2020 12:55  #CoronavirusVaccine #CoronaVaccine #CovidVacci...   \n",
      "2         18-08-2020 12:46  Deaths due to COVID-19 in Affected Countries\\n...   \n",
      "3         18-08-2020 12:45  @Team_Subhashree @subhashreesotwe @iamrajchoco...   \n",
      "4         18-08-2020 12:45  @michellegrattan @ConversationEDU This is what...   \n",
      "...                    ...                                                ...   \n",
      "38454  2021-01-01 00:02:49  #CovidVaccine fans are grotesquely delusional....   \n",
      "38455  2021-01-01 00:01:50  “We get kind of blinded by vaccine euphoria-th...   \n",
      "38456  2021-01-01 00:01:16  Find the updated #COVIDvaccine schedule, and a...   \n",
      "38457  2021-01-01 00:00:57  This needs to be a *waaay* bigger story. And y...   \n",
      "38458  2021-01-01 00:00:49  My happy thought for today is getting work off...   \n",
      "\n",
      "                                                hashtags               source  \\\n",
      "0                                       ['CovidVaccine']      Twitter Web App   \n",
      "1      ['CoronavirusVaccine', 'CoronaVaccine', 'Covid...  Twitter for Android   \n",
      "2                                                    NaN      Twitter Web App   \n",
      "3                                                    NaN  Twitter for Android   \n",
      "4                                                    NaN      Twitter Web App   \n",
      "...                                                  ...                  ...   \n",
      "38454                    ['CovidVaccine', 'Welcome2021']   Twitter for iPhone   \n",
      "38455                                                NaN            TweetDeck   \n",
      "38456                                   ['COVIDvaccine']       Hootsuite Inc.   \n",
      "38457                                                NaN   Twitter for iPhone   \n",
      "38458     ['CovidVaccine', 'coronavirus', 'coronavirus']  Twitter for Android   \n",
      "\n",
      "       is_retweet  \n",
      "0           False  \n",
      "1           False  \n",
      "2           False  \n",
      "3           False  \n",
      "4           False  \n",
      "...           ...  \n",
      "38454       False  \n",
      "38455       False  \n",
      "38456       False  \n",
      "38457       False  \n",
      "38458       False  \n",
      "\n",
      "[38459 rows x 13 columns]\n"
     ]
    }
   ],
   "source": [
    "df= pd.read_csv(r'D:\\Jupyter notebook\\archive\\covidvaccine.csv')\n",
    "print(df)"
   ]
  },
  {
   "cell_type": "code",
   "execution_count": null,
   "metadata": {},
   "outputs": [],
   "source": []
  },
  {
   "cell_type": "code",
   "execution_count": null,
   "metadata": {},
   "outputs": [],
   "source": []
  }
 ],
 "metadata": {
  "kernelspec": {
   "display_name": "Python 3",
   "language": "python",
   "name": "python3"
  },
  "language_info": {
   "codemirror_mode": {
    "name": "ipython",
    "version": 3
   },
   "file_extension": ".py",
   "mimetype": "text/x-python",
   "name": "python",
   "nbconvert_exporter": "python",
   "pygments_lexer": "ipython3",
   "version": "3.8.3"
  }
 },
 "nbformat": 4,
 "nbformat_minor": 4
}
